{
 "cells": [
  {
   "cell_type": "code",
   "execution_count": 1,
   "id": "16d5deec",
   "metadata": {},
   "outputs": [
    {
     "name": "stdout",
     "output_type": "stream",
     "text": [
      "Content 'Introduction' created successfully.\n",
      "Content 'Chapter 1' created successfully.\n",
      "Content 'Chapter 2' created successfully.\n",
      "List of Content Items:\n",
      "Introduction\n",
      "Chapter 1\n",
      "Chapter 2\n",
      "Title: Introduction\n",
      "Description: This is the introduction to the topic.\n",
      "Content 'Introduction' updated successfully.\n",
      "List of Content Items:\n",
      "Introduction\n",
      "Chapter 1\n",
      "Chapter 2\n",
      "Content 'Chapter 1' deleted successfully.\n",
      "List of Content Items:\n",
      "Introduction\n",
      "Chapter 2\n"
     ]
    }
   ],
   "source": [
    "class ContentManagementTool:\n",
    "    def __init__(self):\n",
    "        self.content_items = {}\n",
    "\n",
    "    def create_content(self, title, description):\n",
    "        if title not in self.content_items:\n",
    "            self.content_items[title] = description\n",
    "            print(f\"Content '{title}' created successfully.\")\n",
    "        else:\n",
    "            print(f\"Content '{title}' already exists.\")\n",
    "\n",
    "    def read_content(self, title):\n",
    "        if title in self.content_items:\n",
    "            print(f\"Title: {title}\")\n",
    "            print(f\"Description: {self.content_items[title]}\")\n",
    "        else:\n",
    "            print(f\"Content '{title}' not found.\")\n",
    "\n",
    "    def update_content(self, title, new_description):\n",
    "        if title in self.content_items:\n",
    "            self.content_items[title] = new_description\n",
    "            print(f\"Content '{title}' updated successfully.\")\n",
    "        else:\n",
    "            print(f\"Content '{title}' not found.\")\n",
    "\n",
    "    def delete_content(self, title):\n",
    "        if title in self.content_items:\n",
    "            del self.content_items[title]\n",
    "            print(f\"Content '{title}' deleted successfully.\")\n",
    "        else:\n",
    "            print(f\"Content '{title}' not found.\")\n",
    "\n",
    "    def list_content(self):\n",
    "        print(\"List of Content Items:\")\n",
    "        for title in self.content_items:\n",
    "            print(title)\n",
    "\n",
    "# Create a content management tool instance\n",
    "cm_tool = ContentManagementTool()\n",
    "\n",
    "# Create content items\n",
    "cm_tool.create_content(\"Introduction\", \"This is the introduction to the topic.\")\n",
    "cm_tool.create_content(\"Chapter 1\", \"Content for chapter 1.\")\n",
    "cm_tool.create_content(\"Chapter 2\", \"Content for chapter 2.\")\n",
    "\n",
    "# List all content items\n",
    "cm_tool.list_content()\n",
    "\n",
    "# Read and update content\n",
    "cm_tool.read_content(\"Introduction\")\n",
    "cm_tool.update_content(\"Introduction\", \"Updated introduction content.\")\n",
    "\n",
    "# List all content items again\n",
    "cm_tool.list_content()\n",
    "\n",
    "# Delete content\n",
    "cm_tool.delete_content(\"Chapter 1\")\n",
    "\n",
    "# List all content items one more time\n",
    "cm_tool.list_content()\n"
   ]
  },
  {
   "cell_type": "code",
   "execution_count": null,
   "id": "99890386",
   "metadata": {},
   "outputs": [],
   "source": []
  }
 ],
 "metadata": {
  "kernelspec": {
   "display_name": "Python 3 (ipykernel)",
   "language": "python",
   "name": "python3"
  },
  "language_info": {
   "codemirror_mode": {
    "name": "ipython",
    "version": 3
   },
   "file_extension": ".py",
   "mimetype": "text/x-python",
   "name": "python",
   "nbconvert_exporter": "python",
   "pygments_lexer": "ipython3",
   "version": "3.11.3"
  }
 },
 "nbformat": 4,
 "nbformat_minor": 5
}
