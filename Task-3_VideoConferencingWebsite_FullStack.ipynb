{
 "cells": [
  {
   "cell_type": "code",
   "execution_count": 1,
   "id": "001898b4",
   "metadata": {},
   "outputs": [
    {
     "name": "stdout",
     "output_type": "stream",
     "text": [
      "Requirement already satisfied: Flask in c:\\users\\vanshika\\onedrive\\new folder\\lib\\site-packages (2.2.2)\n",
      "Collecting Flask-SocketIO\n",
      "  Downloading Flask_SocketIO-5.3.5-py3-none-any.whl (17 kB)\n",
      "Requirement already satisfied: Werkzeug>=2.2.2 in c:\\users\\vanshika\\onedrive\\new folder\\lib\\site-packages (from Flask) (2.2.3)\n",
      "Requirement already satisfied: Jinja2>=3.0 in c:\\users\\vanshika\\onedrive\\new folder\\lib\\site-packages (from Flask) (3.1.2)\n",
      "Requirement already satisfied: itsdangerous>=2.0 in c:\\users\\vanshika\\onedrive\\new folder\\lib\\site-packages (from Flask) (2.0.1)\n",
      "Requirement already satisfied: click>=8.0 in c:\\users\\vanshika\\onedrive\\new folder\\lib\\site-packages (from Flask) (8.0.4)\n",
      "Collecting python-socketio>=5.0.2 (from Flask-SocketIO)\n",
      "  Downloading python_socketio-5.8.0-py3-none-any.whl (56 kB)\n",
      "                                              0.0/57.0 kB ? eta -:--:--\n",
      "     ---------------------------------------- 57.0/57.0 kB 1.5 MB/s eta 0:00:00\n",
      "Requirement already satisfied: colorama in c:\\users\\vanshika\\onedrive\\new folder\\lib\\site-packages (from click>=8.0->Flask) (0.4.6)\n",
      "Requirement already satisfied: MarkupSafe>=2.0 in c:\\users\\vanshika\\onedrive\\new folder\\lib\\site-packages (from Jinja2>=3.0->Flask) (2.1.1)\n",
      "Collecting bidict>=0.21.0 (from python-socketio>=5.0.2->Flask-SocketIO)\n",
      "  Downloading bidict-0.22.1-py3-none-any.whl (35 kB)\n",
      "Collecting python-engineio>=4.3.0 (from python-socketio>=5.0.2->Flask-SocketIO)\n",
      "  Downloading python_engineio-4.5.1-py3-none-any.whl (53 kB)\n",
      "                                              0.0/53.5 kB ? eta -:--:--\n",
      "     ---------------------------------------- 53.5/53.5 kB 2.9 MB/s eta 0:00:00\n",
      "Installing collected packages: python-engineio, bidict, python-socketio, Flask-SocketIO\n",
      "Successfully installed Flask-SocketIO-5.3.5 bidict-0.22.1 python-engineio-4.5.1 python-socketio-5.8.0\n",
      "Note: you may need to restart the kernel to use updated packages.\n"
     ]
    }
   ],
   "source": [
    "pip install Flask Flask-SocketIO\n"
   ]
  },
  {
   "cell_type": "code",
   "execution_count": null,
   "id": "09103a46",
   "metadata": {},
   "outputs": [],
   "source": [
    "video_conferencing_website/\n",
    "│\n",
    "├── static/\n",
    "│   └── script.js\n",
    "│\n",
    "├── templates/\n",
    "│   └── index.html\n",
    "│\n",
    "└── app.py\n"
   ]
  },
  {
   "cell_type": "code",
   "execution_count": null,
   "id": "6fa9b54f",
   "metadata": {},
   "outputs": [],
   "source": [
    "from flask import Flask, render_template\n",
    "from flask_socketio import SocketIO\n",
    "\n",
    "app = Flask(__name__)\n",
    "socketio = SocketIO(app)\n",
    "\n",
    "@app.route('/')\n",
    "def index():\n",
    "    return render_template('index.html')\n",
    "\n",
    "if __name__ == '__main__':\n",
    "    socketio.run(app, debug=True)\n"
   ]
  },
  {
   "cell_type": "code",
   "execution_count": null,
   "id": "74151517",
   "metadata": {},
   "outputs": [],
   "source": [
    "<!DOCTYPE html>\n",
    "<html>\n",
    "<head>\n",
    "    <title>Video Conferencing</title>\n",
    "    <script src=\"https://cdnjs.cloudflare.com/ajax/libs/socket.io/4.1.3/socket.io.js\"></script>\n",
    "    <script src=\"{{ url_for('static', filename='script.js') }}\"></script>\n",
    "</head>\n",
    "<body>\n",
    "    <h1>Video Conferencing</h1>\n",
    "    <div id=\"local-video\"></div>\n",
    "    <div id=\"remote-video\"></div>\n",
    "    <button id=\"start-button\">Start Call</button>\n",
    "    <button id=\"end-button\">End Call</button>\n",
    "</body>\n",
    "</html>\n"
   ]
  },
  {
   "cell_type": "code",
   "execution_count": null,
   "id": "633906b6",
   "metadata": {},
   "outputs": [],
   "source": [
    "document.addEventListener('DOMContentLoaded', () => {\n",
    "    const localVideo = document.getElementById('local-video');\n",
    "    const remoteVideo = document.getElementById('remote-video');\n",
    "    const startButton = document.getElementById('start-button');\n",
    "    const endButton = document.getElementById('end-button');\n",
    "\n",
    "    const socket = io.connect('http://' + document.domain + ':' + location.port);\n",
    "\n",
    "    let localStream;\n",
    "    let remoteStream;\n",
    "\n",
    "    const constraints = {\n",
    "        video: true,\n",
    "        audio: true,\n",
    "    };\n",
    "\n",
    "    startButton.addEventListener('click', async () => {\n",
    "        try {\n",
    "            localStream = await navigator.mediaDevices.getUserMedia(constraints);\n",
    "            localVideo.srcObject = localStream;\n",
    "\n",
    "            socket.emit('start_call');\n",
    "        } catch (error) {\n",
    "            console.error('Error accessing media devices:', error);\n",
    "        }\n",
    "    });\n",
    "\n",
    "    endButton.addEventListener('click', () => {\n",
    "        if (localStream) {\n",
    "            localStream.getTracks().forEach(track => track.stop());\n",
    "            localVideo.srcObject = null;\n",
    "\n",
    "            socket.emit('end_call');\n",
    "        }\n",
    "    });\n",
    "\n",
    "    socket.on('receive_call', () => {\n",
    "        remoteStream = new MediaStream();\n",
    "        remoteVideo.srcObject = remoteStream;\n",
    "\n",
    "        localStream.getTracks().forEach(track => remoteStream.addTrack(track));\n",
    "\n",
    "        socket.emit('accept_call');\n",
    "    });\n",
    "\n",
    "    socket.on('end_call', () => {\n",
    "        if (remoteStream) {\n",
    "            remoteStream.getTracks().forEach(track => track.stop());\n",
    "            remoteVideo.srcObject = null;\n",
    "        }\n",
    "    });\n",
    "});\n"
   ]
  },
  {
   "cell_type": "code",
   "execution_count": null,
   "id": "92a90d72",
   "metadata": {},
   "outputs": [],
   "source": [
    "python app.py\n"
   ]
  }
 ],
 "metadata": {
  "kernelspec": {
   "display_name": "Python 3 (ipykernel)",
   "language": "python",
   "name": "python3"
  },
  "language_info": {
   "codemirror_mode": {
    "name": "ipython",
    "version": 3
   },
   "file_extension": ".py",
   "mimetype": "text/x-python",
   "name": "python",
   "nbconvert_exporter": "python",
   "pygments_lexer": "ipython3",
   "version": "3.11.3"
  }
 },
 "nbformat": 4,
 "nbformat_minor": 5
}
