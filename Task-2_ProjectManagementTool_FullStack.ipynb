{
 "cells": [
  {
   "cell_type": "code",
   "execution_count": 3,
   "id": "c1a78021",
   "metadata": {
    "scrolled": true
   },
   "outputs": [
    {
     "name": "stdout",
     "output_type": "stream",
     "text": [
      "Requirement already satisfied: Flask in c:\\users\\vanshika\\onedrive\\new folder\\lib\\site-packages (2.2.2)\n",
      "Requirement already satisfied: Werkzeug>=2.2.2 in c:\\users\\vanshika\\onedrive\\new folder\\lib\\site-packages (from Flask) (2.2.3)\n",
      "Requirement already satisfied: Jinja2>=3.0 in c:\\users\\vanshika\\onedrive\\new folder\\lib\\site-packages (from Flask) (3.1.2)\n",
      "Requirement already satisfied: itsdangerous>=2.0 in c:\\users\\vanshika\\onedrive\\new folder\\lib\\site-packages (from Flask) (2.0.1)\n",
      "Requirement already satisfied: click>=8.0 in c:\\users\\vanshika\\onedrive\\new folder\\lib\\site-packages (from Flask) (8.0.4)\n",
      "Requirement already satisfied: colorama in c:\\users\\vanshika\\onedrive\\new folder\\lib\\site-packages (from click>=8.0->Flask) (0.4.6)\n",
      "Requirement already satisfied: MarkupSafe>=2.0 in c:\\users\\vanshika\\onedrive\\new folder\\lib\\site-packages (from Jinja2>=3.0->Flask) (2.1.1)\n",
      "Note: you may need to restart the kernel to use updated packages.\n"
     ]
    }
   ],
   "source": [
    "pip install Flask\n"
   ]
  },
  {
   "cell_type": "code",
   "execution_count": null,
   "id": "1514e732",
   "metadata": {},
   "outputs": [],
   "source": [
    "from flask import Flask, render_template, request, redirect, url_for\n",
    "\n",
    "app = Flask(__name__)\n",
    "\n",
    "# Temporary data storage (replace with database)\n",
    "projects = []\n",
    "\n",
    "class Project:\n",
    "    def __init__(self, title, description):\n",
    "        self.title = title\n",
    "        self.description = description\n",
    "        self.tasks = []\n",
    "\n",
    "class Task:\n",
    "    def __init__(self, title, description):\n",
    "        self.title = title\n",
    "        self.description = description\n",
    "\n",
    "@app.route('/')\n",
    "def index():\n",
    "    return render_template('index.html', projects=projects)\n",
    "\n",
    "@app.route('/create_project', methods=['GET', 'POST'])\n",
    "def create_project():\n",
    "    if request.method == 'POST':\n",
    "        title = request.form['title']\n",
    "        description = request.form['description']\n",
    "        new_project = Project(title, description)\n",
    "        projects.append(new_project)\n",
    "        return redirect(url_for('index'))\n",
    "    return render_template('create_project.html')\n",
    "\n",
    "@app.route('/project/<int:project_id>')\n",
    "def project_details(project_id):\n",
    "    if 0 <= project_id < len(projects):\n",
    "        project = projects[project_id]\n",
    "        return render_template('project_details.html', project=project)\n",
    "    return \"Project not found.\"\n",
    "\n",
    "if __name__ == '__main__':\n",
    "    app.run(debug=True)\n"
   ]
  },
  {
   "cell_type": "code",
   "execution_count": null,
   "id": "98df126a",
   "metadata": {},
   "outputs": [],
   "source": [
    "<!DOCTYPE html>\n",
    "<html>\n",
    "<head>\n",
    "    <title>{% block title %}Project Management Tool{% endblock %}</title>\n",
    "    <link rel=\"stylesheet\" href=\"{{ url_for('static', filename='style.css') }}\">\n",
    "</head>\n",
    "<body>\n",
    "    <nav>\n",
    "        <a href=\"{{ url_for('index') }}\">Home</a>\n",
    "        <a href=\"{{ url_for('create_project') }}\">Create Project</a>\n",
    "    </nav>\n",
    "    <div class=\"content\">\n",
    "        {% block content %}{% endblock %}\n",
    "    </div>\n",
    "</body>\n",
    "</html>\n"
   ]
  },
  {
   "cell_type": "code",
   "execution_count": null,
   "id": "d74b8c70",
   "metadata": {},
   "outputs": [],
   "source": [
    "{% extends 'base.html' %}\n",
    "\n",
    "{% block content %}\n",
    "    <h1>Project Management Tool</h1>\n",
    "    <ul>\n",
    "        {% for project in projects %}\n",
    "            <li><a href=\"{{ url_for('project_details', project_id=loop.index0) }}\">{{ project.title }}</a></li>\n",
    "        {% endfor %}\n",
    "    </ul>\n",
    "{% endblock %}\n"
   ]
  },
  {
   "cell_type": "code",
   "execution_count": null,
   "id": "21565524",
   "metadata": {},
   "outputs": [],
   "source": [
    "{% extends 'base.html' %}\n",
    "\n",
    "{% block content %}\n",
    "    <h1>Create New Project</h1>\n",
    "    <form method=\"post\" action=\"{{ url_for('create_project') }}\">\n",
    "        <label for=\"title\">Title:</label><br>\n",
    "        <input type=\"text\" id=\"title\" name=\"title\"><br>\n",
    "        <label for=\"description\">Description:</label><br>\n",
    "        <textarea id=\"description\" name=\"description\"></textarea><br>\n",
    "        <input type=\"submit\" value=\"Create\">\n",
    "    </form>\n",
    "    <a href=\"{{ url_for('index') }}\">Back to Projects</a>\n",
    "{% endblock %}\n"
   ]
  },
  {
   "cell_type": "code",
   "execution_count": null,
   "id": "e887fde9",
   "metadata": {},
   "outputs": [],
   "source": [
    "{% extends 'base.html' %}\n",
    "\n",
    "{% block content %}\n",
    "    <h1>{{ project.title }}</h1>\n",
    "    <p>{{ project.description }}</p>\n",
    "    <h2>Tasks</h2>\n",
    "    <ul>\n",
    "        {%\n"
   ]
  }
 ],
 "metadata": {
  "kernelspec": {
   "display_name": "Python 3 (ipykernel)",
   "language": "python",
   "name": "python3"
  },
  "language_info": {
   "codemirror_mode": {
    "name": "ipython",
    "version": 3
   },
   "file_extension": ".py",
   "mimetype": "text/x-python",
   "name": "python",
   "nbconvert_exporter": "python",
   "pygments_lexer": "ipython3",
   "version": "3.11.3"
  }
 },
 "nbformat": 4,
 "nbformat_minor": 5
}
